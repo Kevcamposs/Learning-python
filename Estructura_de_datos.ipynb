{
  "nbformat": 4,
  "nbformat_minor": 0,
  "metadata": {
    "colab": {
      "name": "Estructura_de_datos.ipynb",
      "provenance": [],
      "collapsed_sections": [],
      "authorship_tag": "ABX9TyNl0A14xJIXF0+8trGZ/4x4",
      "include_colab_link": true
    },
    "kernelspec": {
      "name": "python3",
      "display_name": "Python 3"
    },
    "language_info": {
      "name": "python"
    }
  },
  "cells": [
    {
      "cell_type": "markdown",
      "metadata": {
        "id": "view-in-github",
        "colab_type": "text"
      },
      "source": [
        "<a href=\"https://colab.research.google.com/github/Kevcamposs/Learning-python/blob/main/Estructura_de_datos.ipynb\" target=\"_parent\"><img src=\"https://colab.research.google.com/assets/colab-badge.svg\" alt=\"Open In Colab\"/></a>"
      ]
    },
    {
      "cell_type": "markdown",
      "metadata": {
        "id": "rOtrH5w5H2hh"
      },
      "source": [
        "En python existen las siguientes estructuras de datos, básicamente:"
      ]
    },
    {
      "cell_type": "markdown",
      "metadata": {
        "id": "FPt26uj7IJje"
      },
      "source": [
        "# Listas\n",
        "Es una estructura de datos y un tipo de dato. Permite almacenar cualquier tipo de valor. ES MUTABLE."
      ]
    },
    {
      "cell_type": "code",
      "metadata": {
        "colab": {
          "base_uri": "https://localhost:8080/"
        },
        "id": "wWOATzECHyLg",
        "outputId": "a3e7f928-b680-4733-8341-51ecf2b921b3"
      },
      "source": [
        "### Declarar una lista ####\n",
        "ls = [1, True, \"Agua\", [1,2,3]] # corchetes\n",
        "# Como la lista también es un tipo de dato, esta puede contener otras listas\n",
        "\n",
        "###########################\n",
        "print(ls)"
      ],
      "execution_count": 22,
      "outputs": [
        {
          "output_type": "stream",
          "text": [
            "[1, True, 'Agua', [1, 2, 3]]\n"
          ],
          "name": "stdout"
        }
      ]
    },
    {
      "cell_type": "code",
      "metadata": {
        "colab": {
          "base_uri": "https://localhost:8080/"
        },
        "id": "w2YTRFT0JZ2R",
        "outputId": "c6e9e8c2-6bfc-4c39-d346-67d4c2d5ada2"
      },
      "source": [
        "### Seleccionar elementos dentro de una lista ##\n",
        "\n",
        "print(ls[0]) # Elemento con índice 0\n",
        "print(ls[1]) # Elemento con índice 1\n",
        "print(ls[-1]) # último elemento\n",
        "\n",
        "print(ls[3]) # El elemento con índice 3 es otra lista\n",
        "\n",
        "print(ls[3][0]) # Elemento con índice 0, dentro de la lista con índice 3\n",
        "print(ls[3][2]) # Elemento con índice 2, dentro de la lista con índice 3\n",
        "\n",
        "\n",
        "print(ls[0:2]) # Todos los elementos desde el índice 0, hasta antes del índice 2\n",
        "print(ls[:3])  # Todos los elementos desde el inicio, hasta antes del índice 2"
      ],
      "execution_count": 23,
      "outputs": [
        {
          "output_type": "stream",
          "text": [
            "1\n",
            "True\n",
            "[1, 2, 3]\n",
            "[1, 2, 3]\n",
            "1\n",
            "3\n",
            "[1, True]\n",
            "[1, True, 'Agua']\n"
          ],
          "name": "stdout"
        }
      ]
    },
    {
      "cell_type": "markdown",
      "metadata": {
        "id": "m44VxCZ6LPOw"
      },
      "source": [
        "## Métodos con listas"
      ]
    },
    {
      "cell_type": "code",
      "metadata": {
        "id": "rM33SN736ZGH"
      },
      "source": [
        "ls_2 = [] # lista vacía"
      ],
      "execution_count": 24,
      "outputs": []
    },
    {
      "cell_type": "markdown",
      "metadata": {
        "id": "JRkK4u_uN29G"
      },
      "source": [
        "### append()\n",
        "Agregar elementos a una lista, DESDE LA ÚLTIMA POSICIÓN. Agrega un elemento por cada vez que se ejecute."
      ]
    },
    {
      "cell_type": "code",
      "metadata": {
        "colab": {
          "base_uri": "https://localhost:8080/"
        },
        "id": "YgTzmhHdLgJ_",
        "outputId": "25d326ac-b300-4aa6-a912-e352dc97b0eb"
      },
      "source": [
        "ls_2.append(\"hola\") # ['hola']\n",
        "print(ls_2)         # [1, True, 'Agua', [1, 2, 3], 'hola']\n",
        "\n",
        "ls_2.append(['a','b','c']) # al agregar una lista a otra, esta se agrega como un dato.\n",
        "print(ls_2)    # ['hola', ['a', 'b', 'c']]"
      ],
      "execution_count": 25,
      "outputs": [
        {
          "output_type": "stream",
          "text": [
            "['hola']\n",
            "['hola', ['a', 'b', 'c']]\n"
          ],
          "name": "stdout"
        }
      ]
    },
    {
      "cell_type": "markdown",
      "metadata": {
        "id": "zGwrjnGx5SZ9"
      },
      "source": [
        "### insert()\n",
        "Agregar elementos a una lista, ESPECIFICANDO LA POSICIÓN. Agrega un elemento por cada vez que se ejecute."
      ]
    },
    {
      "cell_type": "code",
      "metadata": {
        "colab": {
          "base_uri": "https://localhost:8080/"
        },
        "id": "0HjmhSDd5MY3",
        "outputId": "d22454e4-a516-4f57-bf67-5b6e32f02499"
      },
      "source": [
        "ls_2.insert(1, \"mundo\") # Agrega, en la posición de índice 1, el elemento \"mundo\"\n",
        "print(ls_2)             # ['hola', 'mundo', ['a', 'b', 'c']]\n",
        "\n",
        "ls_2.insert(4, ['a','b','c']) # Al igual que append, este agrega listas como elemento único\n",
        "print(ls_2)             # ['hola', 'mundo', ['a', 'b', 'c'], ['a', 'b', 'c']]"
      ],
      "execution_count": 26,
      "outputs": [
        {
          "output_type": "stream",
          "text": [
            "['hola', 'mundo', ['a', 'b', 'c']]\n",
            "['hola', 'mundo', ['a', 'b', 'c'], ['a', 'b', 'c']]\n"
          ],
          "name": "stdout"
        }
      ]
    },
    {
      "cell_type": "markdown",
      "metadata": {
        "id": "TPkplv2A7OV_"
      },
      "source": [
        "### extend()\n",
        "Agrega elementos a uns lista POR EXTENSIÓN. Útil para concatenar listas"
      ]
    },
    {
      "cell_type": "code",
      "metadata": {
        "colab": {
          "base_uri": "https://localhost:8080/"
        },
        "id": "U7JrRF1-7SPj",
        "outputId": "dacf8509-f4d8-4c08-afa1-29686dc85ecc"
      },
      "source": [
        "ls_2.extend([1,2,3,4,5])\n",
        "print(ls_2)             # ['hola', 'mundo', ['a', 'b', 'c'], ['a', 'b', 'c'], 1, 2, 3, 4, 5]"
      ],
      "execution_count": 27,
      "outputs": [
        {
          "output_type": "stream",
          "text": [
            "['hola', 'mundo', ['a', 'b', 'c'], ['a', 'b', 'c'], 1, 2, 3, 4, 5]\n"
          ],
          "name": "stdout"
        }
      ]
    },
    {
      "cell_type": "markdown",
      "metadata": {
        "id": "chb67APE79UH"
      },
      "source": [
        "### remove()\n",
        "Remover elementos"
      ]
    },
    {
      "cell_type": "code",
      "metadata": {
        "colab": {
          "base_uri": "https://localhost:8080/"
        },
        "id": "auieMC0f8EoX",
        "outputId": "056abc44-b300-4df1-9f87-0d21fa7856b4"
      },
      "source": [
        "ls_2.remove(['a','b','c']) # especificando elementos\n",
        "print(ls_2)"
      ],
      "execution_count": 28,
      "outputs": [
        {
          "output_type": "stream",
          "text": [
            "['hola', 'mundo', ['a', 'b', 'c'], 1, 2, 3, 4, 5]\n"
          ],
          "name": "stdout"
        }
      ]
    },
    {
      "cell_type": "markdown",
      "metadata": {
        "id": "PXwR_hZ4qQV-"
      },
      "source": [
        "##pop()\n",
        "funa el último elemento"
      ]
    },
    {
      "cell_type": "code",
      "metadata": {
        "colab": {
          "base_uri": "https://localhost:8080/"
        },
        "id": "unW-Cm4AqP_6",
        "outputId": "8d9d7883-e25c-4050-f200-f040504004c2"
      },
      "source": [
        "ls_2.pop()\n",
        "print(ls_2)"
      ],
      "execution_count": 29,
      "outputs": [
        {
          "output_type": "stream",
          "text": [
            "['hola', 'mundo', ['a', 'b', 'c'], 1, 2, 3, 4]\n"
          ],
          "name": "stdout"
        }
      ]
    },
    {
      "cell_type": "markdown",
      "metadata": {
        "id": "P7Lh6mla9byk"
      },
      "source": [
        "### reverse()\n",
        "Invierte el orden de la lista"
      ]
    },
    {
      "cell_type": "code",
      "metadata": {
        "colab": {
          "base_uri": "https://localhost:8080/"
        },
        "id": "MjsQE0SO9S6t",
        "outputId": "501afb39-23fd-434a-e100-12513c5a2b68"
      },
      "source": [
        "ls_2.reverse()\n",
        "print(ls_2)"
      ],
      "execution_count": 30,
      "outputs": [
        {
          "output_type": "stream",
          "text": [
            "[4, 3, 2, 1, ['a', 'b', 'c'], 'mundo', 'hola']\n"
          ],
          "name": "stdout"
        }
      ]
    },
    {
      "cell_type": "markdown",
      "metadata": {
        "id": "S-PkmJ8nEElk"
      },
      "source": [
        "## sort()\n",
        "Ordena la lista de menor a mayor valor. Solo aplica para listas con elementos numéricos."
      ]
    },
    {
      "cell_type": "code",
      "metadata": {
        "colab": {
          "base_uri": "https://localhost:8080/"
        },
        "id": "4R84I-ScEKl6",
        "outputId": "04a13ade-de2e-4b39-f3ba-0a275cfcdd74"
      },
      "source": [
        "ls_3 = [2,5,7,0,2,5,3,7]\n",
        "ls_3.sort()\n",
        "print(ls_3)"
      ],
      "execution_count": 31,
      "outputs": [
        {
          "output_type": "stream",
          "text": [
            "[0, 2, 2, 3, 5, 5, 7, 7]\n"
          ],
          "name": "stdout"
        }
      ]
    },
    {
      "cell_type": "markdown",
      "metadata": {
        "id": "jCSKJJI68svU"
      },
      "source": [
        "### count()\n",
        "Cuenta cuántas veces se repite un elemento en la lista"
      ]
    },
    {
      "cell_type": "code",
      "metadata": {
        "colab": {
          "base_uri": "https://localhost:8080/"
        },
        "id": "js8tZ4rF8vnk",
        "outputId": "6d2a4ee0-eb83-4ee6-a765-7ff78e968c55"
      },
      "source": [
        "Hi = ls_2.count('hola')   # cuántas veces se repite 'hola' en la lista\n",
        "print(Hi)                 # 1 vez(veces)"
      ],
      "execution_count": 32,
      "outputs": [
        {
          "output_type": "stream",
          "text": [
            "1\n"
          ],
          "name": "stdout"
        }
      ]
    },
    {
      "cell_type": "markdown",
      "metadata": {
        "id": "dbkELPm2CbEr"
      },
      "source": [
        "## len()\n",
        "Cuántos elementos contiene la lista"
      ]
    },
    {
      "cell_type": "code",
      "metadata": {
        "colab": {
          "base_uri": "https://localhost:8080/"
        },
        "id": "j4HJ0dWFCeFh",
        "outputId": "7afe7cfd-624b-4c0d-bb7c-f9c658e6d4ab"
      },
      "source": [
        "Length = len(ls_2)\n",
        "print(Length)"
      ],
      "execution_count": 33,
      "outputs": [
        {
          "output_type": "stream",
          "text": [
            "7\n"
          ],
          "name": "stdout"
        }
      ]
    },
    {
      "cell_type": "markdown",
      "metadata": {
        "id": "fykmRc2d98ZU"
      },
      "source": [
        "# Tuplas\n",
        "\n",
        "Es una estructura de datos y un tipo de dato. Permite almacenar cualquier tipo de valor. ES INMUTABLE."
      ]
    },
    {
      "cell_type": "code",
      "metadata": {
        "colab": {
          "base_uri": "https://localhost:8080/"
        },
        "id": "11OKC6w9-CwX",
        "outputId": "78d8f0f5-f177-4905-c8bc-8a5932abb6a4"
      },
      "source": [
        "### Declarar una tupla ####\n",
        "tp = (1, True, \"Agua\", [1,2,3]) # Para crearla solo es necesario tener un conjunto de elementos separados por coma. Paréntesis (opcional)\n",
        "print(tp)\n",
        "# OJO: la tupla utiliza los paréntesis solo para dar orden y en caso se quiera declarar una tupla vacía.\n",
        "\n",
        "tp_2 = 'Hola', 'mundo', 'F'\n",
        "print(tp_2)\n",
        "\n",
        "###########################\n",
        "# Mismas operaciones de selección que las listas\n",
        "print(tp[1])    # True\n",
        "print(tp[3][0]) # 1\n",
        "\n",
        "###########################\n",
        "# Métodos aplicados a tuplas son count() y len()"
      ],
      "execution_count": 34,
      "outputs": [
        {
          "output_type": "stream",
          "text": [
            "(1, True, 'Agua', [1, 2, 3])\n",
            "('Hola', 'mundo', 'F')\n",
            "True\n",
            "1\n"
          ],
          "name": "stdout"
        }
      ]
    },
    {
      "cell_type": "markdown",
      "metadata": {
        "id": "8F7QpzZLAS1j"
      },
      "source": [
        "## Unpacking\n",
        "Desempaquetar tupla en distintas variables"
      ]
    },
    {
      "cell_type": "code",
      "metadata": {
        "colab": {
          "base_uri": "https://localhost:8080/"
        },
        "id": "mRp0C3QHAWR0",
        "outputId": "5b448868-2585-463d-a084-e220b938d6a6"
      },
      "source": [
        "(Hi, world, F) = tp_2\n",
        "print(Hi)\n",
        "print(world)\n",
        "print(F)"
      ],
      "execution_count": 35,
      "outputs": [
        {
          "output_type": "stream",
          "text": [
            "Hola\n",
            "mundo\n",
            "F\n"
          ],
          "name": "stdout"
        }
      ]
    },
    {
      "cell_type": "markdown",
      "metadata": {
        "id": "XNkVVWdyAxc9"
      },
      "source": [
        "## Recorrer una tupla\n",
        "Muestra los elementos de una tupla en forma de listado. También funciona con listas"
      ]
    },
    {
      "cell_type": "code",
      "metadata": {
        "colab": {
          "base_uri": "https://localhost:8080/"
        },
        "id": "DBUHlW-qA_qA",
        "outputId": "75078f7a-b5e1-42f6-e84e-9510347fb218"
      },
      "source": [
        "for element in tp:\n",
        "  print(element)"
      ],
      "execution_count": 36,
      "outputs": [
        {
          "output_type": "stream",
          "text": [
            "1\n",
            "True\n",
            "Agua\n",
            "[1, 2, 3]\n"
          ],
          "name": "stdout"
        }
      ]
    },
    {
      "cell_type": "markdown",
      "metadata": {
        "id": "Y6o9rYAIBVsP"
      },
      "source": [
        "## \"Mutar\" una tupla\n",
        "Una tupla es inmutable, es decir, una vez creado ya no puede ser modificado, sin embargo, otros elementos mutables (como una lista) contenido en una tupla sí lo son"
      ]
    },
    {
      "cell_type": "code",
      "metadata": {
        "colab": {
          "base_uri": "https://localhost:8080/"
        },
        "id": "i7b2vKvNBilU",
        "outputId": "480ecd07-81f9-47f4-9bab-0eeb23e093fa"
      },
      "source": [
        "tp[3].append(4) # Agregar elemento a la lista (mutable) contenido en una tupla (inmutable)\n",
        "print(tp)\n",
        "\n",
        "# tp.append(4) # si se intenta, saltará error"
      ],
      "execution_count": 37,
      "outputs": [
        {
          "output_type": "stream",
          "text": [
            "(1, True, 'Agua', [1, 2, 3, 4])\n"
          ],
          "name": "stdout"
        }
      ]
    },
    {
      "cell_type": "markdown",
      "metadata": {
        "id": "j4_S4HmHFPEj"
      },
      "source": [
        "# Range\n",
        "Es una estructura SECUENCIAL de números. ES INMUTABLE."
      ]
    },
    {
      "cell_type": "code",
      "metadata": {
        "colab": {
          "base_uri": "https://localhost:8080/"
        },
        "id": "bbeqmuvVFmDd",
        "outputId": "36c72488-103b-432d-eabe-e3d70f98bb88"
      },
      "source": [
        "range(1,10,1) # range(\"valor inicial\", \"valor cota\", \"salto\")\n",
        "\n",
        "# La estructura no existe como tal, para mostrarlo, debe ser de forma de lista o tupla\n",
        "list(range(1,10,1))\n",
        "tuple(range(1,10,1))\n",
        "\n",
        "list(range(0,-10,-2)) # ir del 0 hasta antes del -10, dando saltos de -2\n",
        "list(range(-5, 6, 5)) # ir del -5 hasta antes del 6, dando saltos de 5 \n",
        "\n",
        "# En caso se cree un range sin sentido, será un elemento vacío\n",
        "list(range(-5,-10,1)) # ir del -5 hasta antes del -10, dando saltos de 1"
      ],
      "execution_count": 38,
      "outputs": [
        {
          "output_type": "execute_result",
          "data": {
            "text/plain": [
              "[]"
            ]
          },
          "metadata": {
            "tags": []
          },
          "execution_count": 38
        }
      ]
    },
    {
      "cell_type": "code",
      "metadata": {
        "colab": {
          "base_uri": "https://localhost:8080/"
        },
        "id": "MIw96p1wHIc9",
        "outputId": "87b2de50-0063-4a79-e0c5-40cd3226b199"
      },
      "source": [
        "for i in range(1,10,1): # Ventaja: en iteraciones crea secuencia de números solo para ese proceso, por lo que consume menos memoria.\n",
        "  print(i)"
      ],
      "execution_count": 39,
      "outputs": [
        {
          "output_type": "stream",
          "text": [
            "1\n",
            "2\n",
            "3\n",
            "4\n",
            "5\n",
            "6\n",
            "7\n",
            "8\n",
            "9\n"
          ],
          "name": "stdout"
        }
      ]
    },
    {
      "cell_type": "code",
      "metadata": {
        "colab": {
          "base_uri": "https://localhost:8080/"
        },
        "id": "Gj-Dpy0ZH1ut",
        "outputId": "b97d8175-1a25-4b57-9098-4872fd038950"
      },
      "source": [
        "import sys\n",
        "lista = list(range(0, 100000))\n",
        "rango = range(0, 100000)\n",
        "print(\"El uso de memoria de la lista es:\", sys.getsizeof(lista)) # casi un megabyte (mb)\n",
        "\n",
        "print(\"El uso de memoria de la lista es:\", sys.getsizeof(rango)) # 48 bytes\n",
        "\n",
        "# ejemplo extraído de: https://j2logo.com/python/tutorial/tipo-range-python/"
      ],
      "execution_count": 40,
      "outputs": [
        {
          "output_type": "stream",
          "text": [
            "El uso de memoria de la lista es: 900120\n",
            "El uso de memoria de la lista es: 48\n"
          ],
          "name": "stdout"
        }
      ]
    },
    {
      "cell_type": "markdown",
      "metadata": {
        "id": "RVq_EjfZJdLR"
      },
      "source": [
        "# Conjunto\n",
        "Colección de datos no ordenada y no presenta elementos repetidos. Puede ser MUTABLE (set) o INMUTABLE (frozenset)"
      ]
    },
    {
      "cell_type": "code",
      "metadata": {
        "colab": {
          "base_uri": "https://localhost:8080/"
        },
        "id": "xCBTKoHUJ3FJ",
        "outputId": "47b972e2-8685-4db1-fb22-6ed737605ffb"
      },
      "source": [
        "### Declarar una conjunto ####\n",
        "ABC = {\"a\", \"b\", \"c\"} # elemento por elemento\n",
        "print(ABC)\n",
        "\n",
        "set_str = set(\"Hola mundo\")  # a partir de un str\n",
        "print(set_str)               # NOTA: considera el espacio\n",
        "\n",
        "set_ls = set(ls_3)  # a partir de una lista\n",
        "print(set_ls)       # NOTA: la lista no debe contener otra estructura de datos\n",
        "\n",
        "###########################\n",
        "# Agregar elementos (no repetidos)\n",
        "set_ls.add(2) # Agregar un elemento\n",
        "print(set_ls) # Agregar varios elementos de una lista, tupla, conjunto o cualquier otro elemento iterable\n",
        "\n",
        "set_str.update(ls_3)\n",
        "print(set_str)\n",
        "\n",
        "###########################\n",
        "# Métodos aplicados a tuplas son count() y len()"
      ],
      "execution_count": 41,
      "outputs": [
        {
          "output_type": "stream",
          "text": [
            "{'a', 'c', 'b'}\n",
            "{'l', ' ', 'd', 'm', 'o', 'u', 'n', 'a', 'H'}\n",
            "{0, 2, 3, 5, 7}\n",
            "{0, 2, 3, 5, 7}\n",
            "{0, 'l', 2, ' ', 3, 5, 7, 'd', 'm', 'o', 'u', 'n', 'a', 'H'}\n"
          ],
          "name": "stdout"
        }
      ]
    },
    {
      "cell_type": "markdown",
      "metadata": {
        "id": "o8p59tqIrzNF"
      },
      "source": [
        "# Diccionarios\n",
        "Estructura de datos con par llave-clave"
      ]
    },
    {
      "cell_type": "code",
      "metadata": {
        "colab": {
          "base_uri": "https://localhost:8080/"
        },
        "id": "YnxdhVNwsgwt",
        "outputId": "b7495fef-ed64-40de-b0d4-69233f07dfcb"
      },
      "source": [
        "# Declarar diccionarios\n",
        "Usuario = {\"Nombre\": \"Pana\",\n",
        "           \"Apellido\": \"Fresco\",\n",
        "           \"Cursos\": [\"Cálculo\", \"Biología\", \"Física\", \"Literatura\"],\n",
        "           \"Notas\": [20, 15, 10, 5]}\n",
        "print(Usuario)"
      ],
      "execution_count": 44,
      "outputs": [
        {
          "output_type": "stream",
          "text": [
            "{'Nombre': 'Pana', 'Apellido': 'Fresco', 'Cursos': ['Cálculo', 'Biología', 'Física', 'Literatura'], 'Notas': [20, 15, 10, 5]}\n"
          ],
          "name": "stdout"
        }
      ]
    }
  ]
}