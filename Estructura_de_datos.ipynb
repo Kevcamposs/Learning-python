{
  "nbformat": 4,
  "nbformat_minor": 0,
  "metadata": {
    "colab": {
      "name": "Estructura_de_datos.ipynb",
      "provenance": [],
      "collapsed_sections": [],
      "toc_visible": true,
      "authorship_tag": "ABX9TyMLVZCmXSJ4mYRSXjFziYIX"
    },
    "kernelspec": {
      "name": "python3",
      "display_name": "Python 3"
    },
    "language_info": {
      "name": "python"
    }
  },
  "cells": [
    {
      "cell_type": "markdown",
      "metadata": {
        "id": "rOtrH5w5H2hh"
      },
      "source": [
        "En python existen las siguientes estructuras de datos, básicamente:"
      ]
    },
    {
      "cell_type": "markdown",
      "metadata": {
        "id": "FPt26uj7IJje"
      },
      "source": [
        "# Listas\n",
        "Es una estructura de datos y un tipo de dato. Permite almacenar cualquier tipo de valor. ES MUTABLE."
      ]
    },
    {
      "cell_type": "code",
      "metadata": {
        "colab": {
          "base_uri": "https://localhost:8080/"
        },
        "id": "wWOATzECHyLg",
        "outputId": "8b3e8134-7280-47cb-b6bd-f26f361f1846"
      },
      "source": [
        "### Declarar una lista ####\n",
        "ls = [1, True, \"Agua\", [1,2,3]] # corchetes\n",
        "# Como la lista también es un tipo de dato, esta puede contener otras listas\n",
        "\n",
        "###########################\n",
        "print(ls)"
      ],
      "execution_count": null,
      "outputs": [
        {
          "output_type": "stream",
          "text": [
            "[1, True, 'Agua', [1, 2, 3]]\n"
          ],
          "name": "stdout"
        }
      ]
    },
    {
      "cell_type": "code",
      "metadata": {
        "colab": {
          "base_uri": "https://localhost:8080/"
        },
        "id": "w2YTRFT0JZ2R",
        "outputId": "cd445b5d-f069-4964-e80c-1ccbd1cd1c2c"
      },
      "source": [
        "### Seleccionar elementos dentro de una lista ##\n",
        "\n",
        "print(ls[0]) # Elemento con índice 0\n",
        "print(ls[1]) # Elemento con índice 1\n",
        "print(ls[-1]) # último elemento\n",
        "\n",
        "print(ls[3]) # El elemento con índice 3 es otra lista\n",
        "\n",
        "print(ls[3][0]) # Elemento con índice 0, dentro de la lista con índice 3\n",
        "print(ls[3][2]) # Elemento con índice 2, dentro de la lista con índice 3\n",
        "\n",
        "\n",
        "print(ls[0:2]) # Todos los elementos desde el índice 0, hasta antes del índice 2\n",
        "print(ls[:3])  # Todos los elementos desde el inicio, hasta antes del índice 2"
      ],
      "execution_count": null,
      "outputs": [
        {
          "output_type": "stream",
          "text": [
            "1\n",
            "True\n",
            "[1, 2, 3]\n",
            "[1, 2, 3]\n",
            "1\n",
            "3\n",
            "[1, True]\n",
            "[1, True, 'Agua']\n"
          ],
          "name": "stdout"
        }
      ]
    },
    {
      "cell_type": "markdown",
      "metadata": {
        "id": "m44VxCZ6LPOw"
      },
      "source": [
        "## Métodos con listas"
      ]
    },
    {
      "cell_type": "code",
      "metadata": {
        "id": "rM33SN736ZGH"
      },
      "source": [
        "ls_2 = [] # lista vacía"
      ],
      "execution_count": null,
      "outputs": []
    },
    {
      "cell_type": "markdown",
      "metadata": {
        "id": "JRkK4u_uN29G"
      },
      "source": [
        "### append()\n",
        "Agregar elementos a una lista, DESDE LA ÚLTIMA POSICIÓN. Agrega un elemento por cada vez que se ejecute."
      ]
    },
    {
      "cell_type": "code",
      "metadata": {
        "colab": {
          "base_uri": "https://localhost:8080/"
        },
        "id": "YgTzmhHdLgJ_",
        "outputId": "22499458-9b72-4381-ed03-c3a7e8324797"
      },
      "source": [
        "ls_2.append(\"hola\") # ['hola']\n",
        "print(ls_2)         # [1, True, 'Agua', [1, 2, 3], 'hola']\n",
        "\n",
        "ls_2.append(['a','b','c']) # al agregar una lista a otra, esta se agrega como un dato.\n",
        "print(ls_2)    # ['hola', ['a', 'b', 'c']]"
      ],
      "execution_count": null,
      "outputs": [
        {
          "output_type": "stream",
          "text": [
            "['hola']\n",
            "['hola', ['a', 'b', 'c']]\n"
          ],
          "name": "stdout"
        }
      ]
    },
    {
      "cell_type": "markdown",
      "metadata": {
        "id": "zGwrjnGx5SZ9"
      },
      "source": [
        "### insert()\n",
        "Agregar elementos a una lista, ESPECIFICANDO LA POSICIÓN. Agrega un elemento por cada vez que se ejecute."
      ]
    },
    {
      "cell_type": "code",
      "metadata": {
        "colab": {
          "base_uri": "https://localhost:8080/"
        },
        "id": "0HjmhSDd5MY3",
        "outputId": "7a2997d3-cd2c-410b-ddb9-462ded9d31ed"
      },
      "source": [
        "ls_2.insert(1, \"mundo\") # Agrega, en la posición de índice 1, el elemento \"mundo\"\n",
        "print(ls_2)             # ['hola', 'mundo', ['a', 'b', 'c']]\n",
        "\n",
        "ls_2.insert(4, ['a','b','c']) # Al igual que append, este agrega listas como elemento único\n",
        "print(ls_2)             # ['hola', 'mundo', ['a', 'b', 'c'], ['a', 'b', 'c']]"
      ],
      "execution_count": null,
      "outputs": [
        {
          "output_type": "stream",
          "text": [
            "['hola', 'mundo', ['a', 'b', 'c']]\n",
            "['hola', 'mundo', ['a', 'b', 'c'], ['a', 'b', 'c']]\n"
          ],
          "name": "stdout"
        }
      ]
    },
    {
      "cell_type": "markdown",
      "metadata": {
        "id": "TPkplv2A7OV_"
      },
      "source": [
        "### extend()\n",
        "Agrega elementos a uns lista POR EXTENSIÓN. Útil para concatenar listas"
      ]
    },
    {
      "cell_type": "code",
      "metadata": {
        "colab": {
          "base_uri": "https://localhost:8080/"
        },
        "id": "U7JrRF1-7SPj",
        "outputId": "02519048-326a-4c77-9058-1f63d77f7986"
      },
      "source": [
        "ls_2.extend([1,2,3,4,5])\n",
        "print(ls_2)             # ['hola', 'mundo', ['a', 'b', 'c'], ['a', 'b', 'c'], 1, 2, 3, 4, 5]"
      ],
      "execution_count": null,
      "outputs": [
        {
          "output_type": "stream",
          "text": [
            "['hola', 'mundo', ['a', 'b', 'c'], ['a', 'b', 'c'], 1, 2, 3, 4, 5]\n"
          ],
          "name": "stdout"
        }
      ]
    },
    {
      "cell_type": "markdown",
      "metadata": {
        "id": "chb67APE79UH"
      },
      "source": [
        "### remove()\n",
        "Remover elementos"
      ]
    },
    {
      "cell_type": "code",
      "metadata": {
        "colab": {
          "base_uri": "https://localhost:8080/"
        },
        "id": "auieMC0f8EoX",
        "outputId": "614bfd4c-42ae-4228-eebd-c662e9b3365c"
      },
      "source": [
        "ls_2.remove(['a','b','c']) # especificando elementos\n",
        "print(ls_2)"
      ],
      "execution_count": null,
      "outputs": [
        {
          "output_type": "stream",
          "text": [
            "['hola', 'mundo', ['a', 'b', 'c'], 1, 2, 3, 4, 5]\n"
          ],
          "name": "stdout"
        }
      ]
    },
    {
      "cell_type": "markdown",
      "metadata": {
        "id": "P7Lh6mla9byk"
      },
      "source": [
        "### reverse()\n",
        "Invierte el orden de la lista"
      ]
    },
    {
      "cell_type": "code",
      "metadata": {
        "colab": {
          "base_uri": "https://localhost:8080/"
        },
        "id": "MjsQE0SO9S6t",
        "outputId": "cec4d628-0c89-4ddf-de91-b889b599fc7e"
      },
      "source": [
        "ls_2.reverse()\n",
        "print(ls_2)"
      ],
      "execution_count": null,
      "outputs": [
        {
          "output_type": "stream",
          "text": [
            "[5, 4, 3, 2, 1, ['a', 'b', 'c'], 'mundo', 'hola']\n"
          ],
          "name": "stdout"
        }
      ]
    },
    {
      "cell_type": "markdown",
      "metadata": {
        "id": "S-PkmJ8nEElk"
      },
      "source": [
        "## sort()\n",
        "Ordena la lista de menor a mayor valor. Solo aplica para listas con elementos numéricos."
      ]
    },
    {
      "cell_type": "code",
      "metadata": {
        "colab": {
          "base_uri": "https://localhost:8080/"
        },
        "id": "4R84I-ScEKl6",
        "outputId": "62ec9d8c-3cc1-4504-f9fc-d10ae12c8876"
      },
      "source": [
        "ls_3 = [2,5,7,0,2,5,3,7]\n",
        "ls_3.sort()\n",
        "print(ls_3)"
      ],
      "execution_count": null,
      "outputs": [
        {
          "output_type": "stream",
          "text": [
            "[0, 2, 2, 3, 5, 5, 7, 7]\n"
          ],
          "name": "stdout"
        }
      ]
    },
    {
      "cell_type": "markdown",
      "metadata": {
        "id": "jCSKJJI68svU"
      },
      "source": [
        "### count()\n",
        "Cuenta cuántas veces se repite un elemento en la lista"
      ]
    },
    {
      "cell_type": "code",
      "metadata": {
        "colab": {
          "base_uri": "https://localhost:8080/"
        },
        "id": "js8tZ4rF8vnk",
        "outputId": "b5352d3e-3f47-415e-b7c0-f04bce0707ba"
      },
      "source": [
        "Hi = ls_2.count('hola')   # cuántas veces se repite 'hola' en la lista\n",
        "print(Hi)                 # 1 vez(veces)"
      ],
      "execution_count": null,
      "outputs": [
        {
          "output_type": "stream",
          "text": [
            "1\n"
          ],
          "name": "stdout"
        }
      ]
    },
    {
      "cell_type": "markdown",
      "metadata": {
        "id": "dbkELPm2CbEr"
      },
      "source": [
        "## len()\n",
        "Cuántos elementos contiene la lista"
      ]
    },
    {
      "cell_type": "code",
      "metadata": {
        "colab": {
          "base_uri": "https://localhost:8080/"
        },
        "id": "j4HJ0dWFCeFh",
        "outputId": "116ba0d4-630e-4dd0-f49b-e67e093e6f86"
      },
      "source": [
        "Length = len(ls_2)\n",
        "print(Length)"
      ],
      "execution_count": null,
      "outputs": [
        {
          "output_type": "stream",
          "text": [
            "8\n"
          ],
          "name": "stdout"
        }
      ]
    },
    {
      "cell_type": "markdown",
      "metadata": {
        "id": "fykmRc2d98ZU"
      },
      "source": [
        "# Tuplas\n",
        "\n",
        "Es una estructura de datos y un tipo de dato. Permite almacenar cualquier tipo de valor. ES INMUTABLE."
      ]
    },
    {
      "cell_type": "code",
      "metadata": {
        "colab": {
          "base_uri": "https://localhost:8080/"
        },
        "id": "11OKC6w9-CwX",
        "outputId": "baaf0d1b-3801-4cd9-d1bf-a2b7db21bbc2"
      },
      "source": [
        "### Declarar una tupla ####\n",
        "tp = (1, True, \"Agua\", [1,2,3]) # Para crearla solo es necesario tener un conjunto de elementos separados por coma. Paréntesis (opcional)\n",
        "print(tp)\n",
        "# OJO: la tupla utiliza los paréntesis solo para dar orden y en caso se quiera declarar una tupla vacía.\n",
        "\n",
        "tp_2 = 'Hola', 'mundo', 'F'\n",
        "print(tp_2)\n",
        "\n",
        "###########################\n",
        "# Mismas operaciones de selección que las listas\n",
        "print(tp[1])    # True\n",
        "print(tp[3][0]) # 1\n",
        "\n",
        "###########################\n",
        "# Métodos aplicados a tuplas son count() y len()"
      ],
      "execution_count": null,
      "outputs": [
        {
          "output_type": "stream",
          "text": [
            "(1, True, 'Agua', [1, 2, 3])\n",
            "('Hola', 'mundo', 'F')\n",
            "True\n",
            "1\n"
          ],
          "name": "stdout"
        }
      ]
    },
    {
      "cell_type": "markdown",
      "metadata": {
        "id": "8F7QpzZLAS1j"
      },
      "source": [
        "## Unpacking\n",
        "Desempaquetar tupla en distintas variables"
      ]
    },
    {
      "cell_type": "code",
      "metadata": {
        "colab": {
          "base_uri": "https://localhost:8080/"
        },
        "id": "mRp0C3QHAWR0",
        "outputId": "a5ad8d2a-bda4-4647-abed-edecbaef3255"
      },
      "source": [
        "(Hi, world, F) = tp_2\n",
        "print(Hi)\n",
        "print(world)\n",
        "print(F)"
      ],
      "execution_count": null,
      "outputs": [
        {
          "output_type": "stream",
          "text": [
            "Hola\n",
            "mundo\n",
            "F\n"
          ],
          "name": "stdout"
        }
      ]
    },
    {
      "cell_type": "markdown",
      "metadata": {
        "id": "XNkVVWdyAxc9"
      },
      "source": [
        "## Recorrer una tupla\n",
        "Muestra los elementos de una tupla en forma de listado. También funciona con listas"
      ]
    },
    {
      "cell_type": "code",
      "metadata": {
        "colab": {
          "base_uri": "https://localhost:8080/"
        },
        "id": "DBUHlW-qA_qA",
        "outputId": "7a7130fd-44f3-48ef-c65d-75ec8dbbc571"
      },
      "source": [
        "for element in tp:\n",
        "  print(element)"
      ],
      "execution_count": null,
      "outputs": [
        {
          "output_type": "stream",
          "text": [
            "1\n",
            "True\n",
            "Agua\n",
            "[1, 2, 3]\n"
          ],
          "name": "stdout"
        }
      ]
    },
    {
      "cell_type": "markdown",
      "metadata": {
        "id": "Y6o9rYAIBVsP"
      },
      "source": [
        "## \"Mutar\" una tupla\n",
        "Una tupla es inmutable, es decir, una vez creado ya no puede ser modificado, sin embargo, otros elementos mutables (como una lista) contenido en una tupla sí lo son"
      ]
    },
    {
      "cell_type": "code",
      "metadata": {
        "colab": {
          "base_uri": "https://localhost:8080/"
        },
        "id": "i7b2vKvNBilU",
        "outputId": "0a8b3829-5b5e-4e23-fc1c-2e21ca4cff6a"
      },
      "source": [
        "tp[3].append(4) # Agregar elemento a la lista (mutable) contenido en una tupla (inmutable)\n",
        "print(tp)\n",
        "\n",
        "# tp.append(4) # si se intenta, saltará error"
      ],
      "execution_count": null,
      "outputs": [
        {
          "output_type": "stream",
          "text": [
            "(1, True, 'Agua', [1, 2, 3, 4])\n"
          ],
          "name": "stdout"
        }
      ]
    },
    {
      "cell_type": "markdown",
      "metadata": {
        "id": "j4_S4HmHFPEj"
      },
      "source": [
        "# Range\n",
        "Es una estructura SECUENCIAL de números. ES INMUTABLE."
      ]
    },
    {
      "cell_type": "code",
      "metadata": {
        "colab": {
          "base_uri": "https://localhost:8080/"
        },
        "id": "bbeqmuvVFmDd",
        "outputId": "c2eba33a-d0bb-40ed-d3e5-13b0ea7a0413"
      },
      "source": [
        "range(1,10,1) # range(\"valor inicial\", \"valor cota\", \"salto\")\n",
        "\n",
        "# La estructura no existe como tal, para mostrarlo, debe ser de forma de lista o tupla\n",
        "list(range(1,10,1))\n",
        "tuple(range(1,10,1))\n",
        "\n",
        "list(range(0,-10,-2)) # ir del 0 hasta antes del -10, dando saltos de -2\n",
        "list(range(-5, 6, 5)) # ir del -5 hasta antes del 6, dando saltos de 5 \n",
        "\n",
        "# En caso se cree un range sin sentido, será un elemento vacío\n",
        "list(range(-5,-10,1)) # ir del -5 hasta antes del -10, dando saltos de 1"
      ],
      "execution_count": null,
      "outputs": [
        {
          "output_type": "execute_result",
          "data": {
            "text/plain": [
              "[]"
            ]
          },
          "metadata": {
            "tags": []
          },
          "execution_count": 142
        }
      ]
    },
    {
      "cell_type": "code",
      "metadata": {
        "colab": {
          "base_uri": "https://localhost:8080/"
        },
        "id": "MIw96p1wHIc9",
        "outputId": "99227f6b-d4cd-4537-b520-b5b9aacfbf71"
      },
      "source": [
        "for i in range(1,10,1): # Ventaja: en iteraciones crea secuencia de números solo para ese proceso, por lo que consume menos memoria.\n",
        "  print(i)"
      ],
      "execution_count": null,
      "outputs": [
        {
          "output_type": "stream",
          "text": [
            "1\n",
            "2\n",
            "3\n",
            "4\n",
            "5\n",
            "6\n",
            "7\n",
            "8\n",
            "9\n"
          ],
          "name": "stdout"
        }
      ]
    },
    {
      "cell_type": "code",
      "metadata": {
        "colab": {
          "base_uri": "https://localhost:8080/"
        },
        "id": "Gj-Dpy0ZH1ut",
        "outputId": "5fc3ea66-06ab-48b8-efb3-caef36c9b18b"
      },
      "source": [
        "import sys\n",
        "lista = list(range(0, 100000))\n",
        "rango = range(0, 100000)\n",
        "print(\"El uso de memoria de la lista es:\", sys.getsizeof(lista)) # casi un megabyte (mb)\n",
        "\n",
        "print(\"El uso de memoria de la lista es:\", sys.getsizeof(rango)) # 48 bytes\n",
        "\n",
        "# ejemplo extraído de: https://j2logo.com/python/tutorial/tipo-range-python/"
      ],
      "execution_count": null,
      "outputs": [
        {
          "output_type": "stream",
          "text": [
            "El uso de memoria de la lista es: 900120\n",
            "El uso de memoria de la lista es: 48\n"
          ],
          "name": "stdout"
        }
      ]
    },
    {
      "cell_type": "markdown",
      "metadata": {
        "id": "RVq_EjfZJdLR"
      },
      "source": [
        "# Conjunto\n",
        "Colección de datos no ordenada y no presenta elementos repetidos. Puede ser MUTABLE (set) o INMUTABLE (frozenset)"
      ]
    },
    {
      "cell_type": "code",
      "metadata": {
        "colab": {
          "base_uri": "https://localhost:8080/"
        },
        "id": "xCBTKoHUJ3FJ",
        "outputId": "02c439bd-7e83-48a6-c004-7b440473b1c2"
      },
      "source": [
        "### Declarar una conjunto ####\n",
        "ABC = {\"a\", \"b\", \"c\"} # elemento por elemento\n",
        "print(ABC)\n",
        "\n",
        "set_str = set(\"Hola mundo\")  # a partir de un str\n",
        "print(set_str)               # NOTA: considera el espacio\n",
        "\n",
        "set_ls = set(ls_3)  # a partir de una lista\n",
        "print(set_ls)       # NOTA: la lista no debe contener otra estructura de datos\n",
        "\n",
        "###########################\n",
        "# Agregar elementos (no repetidos)\n",
        "set_ls.add(2) # Agregar un elemento\n",
        "print(set_ls) # Agregar varios elementos de una lista, tupla, conjunto o cualquier otro elemento iterable\n",
        "\n",
        "set_str.update(ls_3)\n",
        "print(set_str)\n",
        "\n",
        "###########################\n",
        "# Métodos aplicados a tuplas son count() y len()"
      ],
      "execution_count": null,
      "outputs": [
        {
          "output_type": "stream",
          "text": [
            "{'c', 'b', 'a'}\n",
            "{' ', 'd', 'o', 'u', 'n', 'l', 'H', 'a', 'm'}\n",
            "{0, 2, 3, 5, 7}\n",
            "{0, 2, 3, 5, 7}\n",
            "{0, 2, 3, ' ', 'd', 'o', 5, 7, 'u', 'n', 'l', 'H', 'a', 'm'}\n"
          ],
          "name": "stdout"
        }
      ]
    }
  ]
}